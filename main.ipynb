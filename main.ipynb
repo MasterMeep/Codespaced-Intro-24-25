{
 "cells": [
  {
   "cell_type": "markdown",
   "metadata": {
    "vscode": {
     "languageId": "raw"
    }
   },
   "source": [
    "# **Welcome to the Basics of NumPy, Pandas, and Matplotlib!**\n",
    "\n",
    "In this notebook, you'll be introduced to three important libraries in Python: **NumPy**, **Pandas**, and **Matplotlib**. These libraries are fundamental to data manipulation and visualization in Python, and you'll encounter them often if you work with data science or machine learning.\n",
    "\n",
    "This tutorial will guide you through the basics, helping you understand how to use each library effectively. Along the way, you'll be asked to fill in some sections of code to apply your learning.\n",
    "\n",
    "Make sure to follow along and explore the examples thoroughly.\n"
   ]
  },
  {
   "cell_type": "markdown",
   "metadata": {},
   "source": [
    "## **Part 1: NumPy Basics**\n",
    "\n",
    "NumPy (Numerical Python) is a library used for working with arrays. It also has functions for working in the domain of linear algebra, Fourier transform, and matrices.\n",
    "\n",
    "### Key Concepts Covered:\n",
    "- Creating arrays\n",
    "- Array operations\n",
    "- Indexing and slicing\n",
    "- Basic mathematical functions"
   ]
  },
  {
   "cell_type": "code",
   "execution_count": 6,
   "metadata": {},
   "outputs": [],
   "source": [
    "# Import NumPy\n",
    "import numpy as np"
   ]
  },
  {
   "cell_type": "markdown",
   "metadata": {},
   "source": [
    "### **Creating Arrays**\n",
    "\n",
    "NumPy allows you to create arrays with ease. You can create arrays from lists, or you can use functions to generate arrays of specific sizes."
   ]
  },
  {
   "cell_type": "code",
   "execution_count": null,
   "metadata": {},
   "outputs": [],
   "source": [
    "# Create a 1D array from a list\n",
    "arr1 = np.array([1, 2, 3, 4, 5])\n",
    "print(\"1D Array:\", arr1)\n",
    "\n",
    "# Create a 2D array\n",
    "arr2 = np.array([[1, 2, 3], [4, 5, 6]])\n",
    "print(\"2D Array:\\n\", arr2)\n",
    "\n",
    "# Create an array of zeros\n",
    "zeros_array = np.zeros((3, 3))\n",
    "print(\"Array of Zeros:\\n\", zeros_array)\n",
    "\n",
    "# Create an array of ones\n",
    "ones_array = np.ones((2, 4))\n",
    "print(\"Array of Ones:\\n\", ones_array)\n",
    "\n",
    "# Create an array with a range of numbers\n",
    "range_array = np.arange(10)\n",
    "print(\"Range Array:\", range_array)"
   ]
  },
  {
   "cell_type": "markdown",
   "metadata": {},
   "source": [
    "### **Array Operations**\n",
    "\n",
    "NumPy arrays support element-wise operations. You can perform mathematical operations on arrays just like you would with normal numbers or lists, but in a much faster and efficient way."
   ]
  },
  {
   "cell_type": "code",
   "execution_count": null,
   "metadata": {},
   "outputs": [],
   "source": [
    "# Define two arrays\n",
    "array1 = np.array([10, 20, 30, 40])\n",
    "array2 = np.array([1, 2, 3, 4])\n",
    "\n",
    "# Perform basic operations\n",
    "addition = array1 + array2  # Element-wise addition\n",
    "subtraction = array1 - array2  # Element-wise subtraction\n",
    "\n",
    "# Now you try multiplying and dividing the arrays\n",
    "multiplication = # <-- Complete this line\n",
    "division = # <-- Complete this line\n",
    "\n",
    "print(\"Addition:\", addition)\n",
    "print(\"Subtraction:\", subtraction)\n",
    "print(\"Multiplication:\", multiplication)\n",
    "print(\"Division:\", division)"
   ]
  },
  {
   "cell_type": "markdown",
   "metadata": {},
   "source": [
    "## **Part 2: Pandas Basics**\n",
    "\n",
    "Pandas is an open-source library that provides easy-to-use data structures and data analysis tools for Python. It allows you to work with data in a tabular format (like Excel).\n",
    "\n",
    "### Key Concepts Covered:\n",
    "- Series and DataFrames\n",
    "- Basic operations with DataFrames\n",
    "- Reading from CSV files"
   ]
  },
  {
   "cell_type": "code",
   "execution_count": 11,
   "metadata": {},
   "outputs": [],
   "source": [
    "# Import Pandas\n",
    "import pandas as pd"
   ]
  },
  {
   "cell_type": "markdown",
   "metadata": {},
   "source": [
    "### **Creating a Series**\n",
    "\n",
    "A **Series** is a one-dimensional labeled array in Pandas. It can hold any data type (integers, strings, floats, etc.)."
   ]
  },
  {
   "cell_type": "code",
   "execution_count": null,
   "metadata": {},
   "outputs": [],
   "source": [
    "# Creating a Series\n",
    "data = [10, 20, 30, 40]\n",
    "labels = ['a', 'b', 'c', 'd']\n",
    "series = pd.Series(data, index=labels)\n",
    "\n",
    "print(\"Series:\\n\", series)"
   ]
  },
  {
   "cell_type": "markdown",
   "metadata": {},
   "source": [
    "### **DataFrames**\n",
    "\n",
    "A **DataFrame** is a 2D labeled data structure with columns of potentially different types. It’s similar to an Excel spreadsheet or a SQL table."
   ]
  },
  {
   "cell_type": "code",
   "execution_count": null,
   "metadata": {},
   "outputs": [],
   "source": [
    "# Create a DataFrame from a dictionary\n",
    "data_dict = {\n",
    "    'Name': ['Alice', 'Bob', 'Charlie', 'David'],\n",
    "    'Age': [25, 30, 35, 40],\n",
    "    'City': ['New York', 'Los Angeles', 'Chicago', 'Houston']\n",
    "}\n",
    "\n",
    "# Now create the DataFrame using the dictionary\n",
    "df = # <-- Complete this line\n",
    "\n",
    "# Display the DataFrame\n",
    "print(df)\n",
    "\n",
    "# Now try accessing specific columns, e.g., the 'Name' column\n",
    "names = # <-- Complete this line\n",
    "print(\"Names:\", names)"
   ]
  },
  {
   "cell_type": "markdown",
   "metadata": {},
   "source": [
    "### **Reading from CSV Files**\n",
    "\n",
    "Pandas makes it easy to read and write CSV files, which are often used to store data."
   ]
  },
  {
   "cell_type": "code",
   "execution_count": null,
   "metadata": {},
   "outputs": [],
   "source": [
    "# Read a CSV file into a DataFrame\n",
    "# Note: Make sure to have the 'sample.csv' file in your working directory\n",
    "df_csv = pd.read_csv('sample.csv')\n",
    "\n",
    "# Display the first few rows of the DataFrame\n",
    "df_csv.head()"
   ]
  },
  {
   "cell_type": "markdown",
   "metadata": {},
   "source": [
    "## **Part 3: Matplotlib Basics**\n",
    "\n",
    "Matplotlib is a library for creating visualizations in Python. It allows you to create a wide variety of plots and graphs, including line plots, bar charts, histograms, and more.\n",
    "\n",
    "### Key Concepts Covered:\n",
    "- Creating a simple line plot\n",
    "- Bar charts\n",
    "- Histograms"
   ]
  },
  {
   "cell_type": "code",
   "execution_count": null,
   "metadata": {},
   "outputs": [],
   "source": [
    "# Import Matplotlib\n",
    "import matplotlib.pyplot as plt"
   ]
  },
  {
   "cell_type": "markdown",
   "metadata": {},
   "source": [
    "### **Creating a Line Plot**\n",
    "\n",
    "Line plots are great for visualizing trends in data over time or a continuous variable."
   ]
  },
  {
   "cell_type": "code",
   "execution_count": null,
   "metadata": {},
   "outputs": [],
   "source": [
    "# Sample data for a line plot\n",
    "x = np.linspace(0, 10, 100)  # 100 evenly spaced values between 0 and 10\n",
    "y = np.sin(x)\n",
    "\n",
    "# Create the line plot\n",
    "plt.plot(x, y)\n",
    "\n",
    "# Add labels and title\n",
    "plt.xlabel('X Axis')\n",
    "plt.ylabel('Y Axis')\n",
    "plt.title('Sine Wave')\n",
    "\n",
    "# Show the plot\n",
    "plt.show()"
   ]
  },
  {
   "cell_type": "markdown",
   "metadata": {},
   "source": [
    "### **Bar Charts**\n",
    "\n",
    "Bar charts are useful for comparing categorical data."
   ]
  },
  {
   "cell_type": "code",
   "execution_count": null,
   "metadata": {},
   "outputs": [],
   "source": [
    "# Sample data for a bar chart\n",
    "categories = ['A', 'B', 'C', 'D']\n",
    "values = [3, 7, 5, 9]\n",
    "\n",
    "# Create the bar chart\n",
    "plt.bar(categories, values)\n",
    "\n",
    "# Add labels and title\n",
    "# Complete the labels and title here\n",
    "plt.xlabel( # <-- Complete this )\n",
    "plt.ylabel( # <-- Complete this )\n",
    "plt.title( # <-- Complete this )\n",
    "\n",
    "# Show the plot\n",
    "plt.show()"
   ]
  },
  {
   "cell_type": "markdown",
   "metadata": {},
   "source": [
    "### **Histograms**\n",
    "\n",
    "Histograms are great for visualizing the distribution of a dataset."
   ]
  },
  {
   "cell_type": "code",
   "execution_count": null,
   "metadata": {},
   "outputs": [],
   "source": [
    "# Generate random data for a histogram\n",
    "data = np.random.randn(1000)\n",
    "\n",
    "# Create the histogram\n",
    "# Try playing with the number of bins to see how the visualization changes\n",
    "plt.hist(data, bins= # <-- Complete this )\n",
    "\n",
    "# Add labels and title\n",
    "plt.xlabel('Value')\n",
    "plt.ylabel('Frequency')\n",
    "plt.title('Histogram of Random Data')\n",
    "\n",
    "# Show the plot\n",
    "plt.show()"
   ]
  },
  {
   "cell_type": "markdown",
   "metadata": {},
   "source": [
    "# **Conclusion**\n",
    "\n",
    "Congratulations! You've learned the basics of three powerful Python libraries: NumPy, Pandas, and Matplotlib. In this notebook, you explored how to:\n",
    "- Create arrays and perform operations using NumPy,\n",
    "- Manipulate data using Pandas DataFrames,\n",
    "- Visualize data using Matplotlib plots.\n",
    "\n",
    "There’s much more to explore in each of these libraries, so feel free to dive deeper and experiment with more advanced features. Happy coding!"
   ]
  }
 ],
 "metadata": {
  "kernelspec": {
   "display_name": ".venv",
   "language": "python",
   "name": "python3"
  },
  "language_info": {
   "codemirror_mode": {
    "name": "ipython",
    "version": 3
   },
   "file_extension": ".py",
   "mimetype": "text/x-python",
   "name": "python",
   "nbconvert_exporter": "python",
   "pygments_lexer": "ipython3",
   "version": "3.12.1"
  }
 },
 "nbformat": 4,
 "nbformat_minor": 2
}
