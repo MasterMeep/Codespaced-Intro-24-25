{
 "cells": [
  {
   "cell_type": "markdown",
   "metadata": {},
   "source": [
    "# **Recursion Workshop**"
   ]
  },
  {
   "cell_type": "markdown",
   "metadata": {},
   "source": [
    "#### **Implementing a Factorial Function using Recursion**  \n",
    "- 5! = 5 × 4 × 3 × 2 × 1 = 120  \n",
    "- 0! = 1 (by definition)"
   ]
  },
  {
   "cell_type": "code",
   "execution_count": null,
   "metadata": {},
   "outputs": [
    {
     "data": {
      "text/plain": [
       "3628800"
      ]
     },
     "metadata": {},
     "output_type": "display_data"
    }
   ],
   "source": [
    "def factorial(n):\n",
    "    # Base Case\n",
    "    \n",
    "    # Recursive Case"
   ]
  },
  {
   "cell_type": "markdown",
   "metadata": {},
   "source": [
    "#### **Implementing the Fibonacci Sequence Using Recursion**  \n",
    "- 1, 1, 2, 3, 5, 8, 13, 21 ...\n",
    "- Assume the 0th term is the first 1 and the 1st term is the second 1"
   ]
  },
  {
   "cell_type": "code",
   "execution_count": null,
   "metadata": {},
   "outputs": [
    {
     "data": {
      "text/plain": [
       "89"
      ]
     },
     "metadata": {},
     "output_type": "display_data"
    }
   ],
   "source": [
    "def fibonacci(n):\n",
    "    # Base Case\n",
    "    \n",
    "    # Recursive Case"
   ]
  },
  {
   "cell_type": "markdown",
   "metadata": {},
   "source": [
    "#### **Printing All Possible Combinations of Heads and Tails**  \n",
    "- 1 -> \"H\" \"T\"\n",
    "- 2 -> \"HH\" \"HT\" \"TH\" \"TT\"\n",
    "- 3 -> \"HHH\" \"HHT\" \"HTH\" \"HTT\" \"THH\" \"THT\" \"TTH\" \"TTT\""
   ]
  },
  {
   "cell_type": "code",
   "execution_count": null,
   "metadata": {},
   "outputs": [
    {
     "name": "stdout",
     "output_type": "stream",
     "text": [
      "HHH\n",
      "HHT\n",
      "HTH\n",
      "HTT\n",
      "THH\n",
      "THT\n",
      "TTH\n",
      "TTT\n"
     ]
    }
   ],
   "source": [
    "def print_combinations_helper(n, string):\n",
    "    # Base Case\n",
    "\n",
    "    # Recursive Cases\n",
    "\n",
    "def print_combinations(n):\n",
    "    print_combinations_helper(n, \"\")"
   ]
  },
  {
   "cell_type": "markdown",
   "metadata": {},
   "source": [
    "#### **Intro to Backtracking**  \n",
    "- Given a set of integers, return if it is possible to make 2 subsets that have the same sum\n",
    "- {1, 1, 2, 3, 5} -> True because 1 + 5 = 1 + 2 + 3\n",
    "- {1, 4, 5, 6} -> False"
   ]
  },
  {
   "cell_type": "code",
   "execution_count": null,
   "metadata": {},
   "outputs": [
    {
     "data": {
      "text/plain": [
       "False"
      ]
     },
     "metadata": {},
     "output_type": "display_data"
    }
   ],
   "source": [
    "def partitionable_helper(nums, sum1, sum2):\n",
    "    # Base Case\n",
    "    \n",
    "    # Choose\n",
    "\n",
    "    # Explore\n",
    "\n",
    "    # Unchoose\n",
    "\n",
    "def partitionable(nums):\n",
    "    return partitionable_helper(nums, 0, 0)"
   ]
  }
 ],
 "metadata": {
  "language_info": {
   "name": "python"
  }
 },
 "nbformat": 4,
 "nbformat_minor": 2
}
