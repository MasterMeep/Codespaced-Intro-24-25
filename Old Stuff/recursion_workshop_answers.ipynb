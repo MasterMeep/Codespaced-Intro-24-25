{
 "cells": [
  {
   "cell_type": "markdown",
   "metadata": {},
   "source": [
    "# **Recursion Workshop**"
   ]
  },
  {
   "cell_type": "markdown",
   "metadata": {},
   "source": [
    "#### **Implementing a Factorial Function using Recursion**  \n",
    "- 5! = 5 × 4 × 3 × 2 × 1 = 120  \n",
    "- 0! = 1 (by definition)"
   ]
  },
  {
   "cell_type": "code",
   "execution_count": 7,
   "metadata": {},
   "outputs": [
    {
     "data": {
      "text/plain": [
       "3628800"
      ]
     },
     "execution_count": 7,
     "metadata": {},
     "output_type": "execute_result"
    }
   ],
   "source": [
    "def factorial(n):\n",
    "    # Base Case\n",
    "    if n == 0:\n",
    "        return 1\n",
    "    \n",
    "    # Recursive Case\n",
    "    return n * factorial(n - 1)\n",
    "\n",
    "factorial(10)"
   ]
  },
  {
   "cell_type": "markdown",
   "metadata": {},
   "source": [
    "#### **Implementing the Fibonacci Sequence Using Recursion**  \n",
    "- 1, 1, 2, 3, 5, 8, 13, 21 ...\n",
    "- Assume the 0th term is the first 1 and the 1st term is the second 1"
   ]
  },
  {
   "cell_type": "code",
   "execution_count": 12,
   "metadata": {},
   "outputs": [
    {
     "data": {
      "text/plain": [
       "89"
      ]
     },
     "execution_count": 12,
     "metadata": {},
     "output_type": "execute_result"
    }
   ],
   "source": [
    "def fibonacci(n):\n",
    "    # Base Case\n",
    "    if n <= 1:\n",
    "        return 1\n",
    "    \n",
    "    # Recursive Case\n",
    "    return fibonacci(n - 1) + fibonacci(n - 2)\n",
    "\n",
    "fibonacci(10)"
   ]
  },
  {
   "cell_type": "markdown",
   "metadata": {},
   "source": [
    "#### **Printing All Possible Combinations of Heads and Tails**  \n",
    "- 1 -> \"H\" \"T\"\n",
    "- 2 -> \"HH\" \"HT\" \"TH\" \"TT\"\n",
    "- 3 -> \"HHH\" \"HHT\" \"HTH\" \"HTT\" \"THH\" \"THT\" \"TTH\" \"TTT\""
   ]
  },
  {
   "cell_type": "code",
   "execution_count": 17,
   "metadata": {},
   "outputs": [
    {
     "name": "stdout",
     "output_type": "stream",
     "text": [
      "HHH\n",
      "HHT\n",
      "HTH\n",
      "HTT\n",
      "THH\n",
      "THT\n",
      "TTH\n",
      "TTT\n"
     ]
    }
   ],
   "source": [
    "def print_combinations_helper(n, string):\n",
    "    # Base Case\n",
    "    if len(string) == n:\n",
    "        print(string)\n",
    "        return\n",
    "\n",
    "    # Recursive Cases\n",
    "    print_combinations_helper(n, string + \"H\")\n",
    "    print_combinations_helper(n, string + \"T\")\n",
    "\n",
    "def print_combinations(n):\n",
    "    print_combinations_helper(n, \"\")\n",
    "\n",
    "print_combinations(3)"
   ]
  },
  {
   "cell_type": "markdown",
   "metadata": {},
   "source": [
    "#### **Intro to Backtracking**  \n",
    "- Given a set of integers, return if it is possible to make 2 subsets that have the same sum\n",
    "- {1, 1, 2, 3, 5} -> True because 1 + 5 = 1 + 2 + 3\n",
    "- {1, 4, 5, 6} -> False"
   ]
  },
  {
   "cell_type": "code",
   "execution_count": 22,
   "metadata": {},
   "outputs": [
    {
     "data": {
      "text/plain": [
       "False"
      ]
     },
     "execution_count": 22,
     "metadata": {},
     "output_type": "execute_result"
    }
   ],
   "source": [
    "def partitionable_helper(nums, sum1, sum2):\n",
    "    # Base Case\n",
    "    if len(nums) == 0:\n",
    "        return sum1 == sum2\n",
    "    \n",
    "    # Choose\n",
    "    num = nums[-1]\n",
    "    nums.pop(-1)\n",
    "\n",
    "    # Explore\n",
    "    answer = partitionable_helper(nums, sum1 + num, sum2) or partitionable_helper(nums, sum1, sum2 + num)\n",
    "\n",
    "    # Unchoose\n",
    "    nums.append(num)\n",
    "\n",
    "    return answer\n",
    "\n",
    "def partitionable(nums):\n",
    "    return partitionable_helper(nums, 0, 0)\n",
    "\n",
    "partitionable([1, 1, 2, 3])"
   ]
  }
 ],
 "metadata": {
  "kernelspec": {
   "display_name": "Python 3",
   "language": "python",
   "name": "python3"
  },
  "language_info": {
   "codemirror_mode": {
    "name": "ipython",
    "version": 3
   },
   "file_extension": ".py",
   "mimetype": "text/x-python",
   "name": "python",
   "nbconvert_exporter": "python",
   "pygments_lexer": "ipython3",
   "version": "3.12.1"
  }
 },
 "nbformat": 4,
 "nbformat_minor": 2
}
